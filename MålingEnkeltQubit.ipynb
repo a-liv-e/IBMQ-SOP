{
 "cells": [
  {
   "cell_type": "markdown",
   "id": "cde050f3-178c-49d2-8141-400cfe9b2409",
   "metadata": {},
   "source": [
    "# IBM Q Øvelse 1: Måling af én qubit\n",
    "### Skrevet af Anna Liv Paludan Bjerregaard"
   ]
  },
  {
   "cell_type": "markdown",
   "id": "212aceb6-b5b9-4d50-b76d-6bb1cd000574",
   "metadata": {},
   "source": [
    "I denne øvelse skal du igennem nogen af fundamenterne for hvad IBM Q kan. Du kommer til at \n",
    "\n",
    "1) Lave dit første kvante-kredsløb\n",
    "\n",
    "2) Måle på en qubit\n",
    "\n",
    "3) Bruge operatorer på denne qubit\n",
    "\n",
    "IBM Q bruger kodesproget Python. Du skal ikke bekymre dig om hvis du ikke kender til det, det vigtigste du skal vide er at man trykker `shift`+`return` for at køre koden i en given celle - prøv det med cellen nedenfor som importerer de pakker vi skal bruge til øvelsen!"
   ]
  },
  {
   "cell_type": "code",
   "execution_count": 67,
   "id": "abb7b29c-e8bd-4146-84ea-97360fb5fc7f",
   "metadata": {},
   "outputs": [
    {
     "name": "stderr",
     "output_type": "stream",
     "text": [
      "ibmqfactory.load_account:WARNING:2022-11-07 15:42:27,066: Credentials are already in use. The existing account in the session will be replaced.\n"
     ]
    }
   ],
   "source": [
    "import numpy as np\n",
    "import matplotlib.pyplot as plt\n",
    "# Importing standard Qiskit libraries\n",
    "from qiskit.providers.ibmq import least_busy\n",
    "from qiskit import QuantumCircuit, transpile, Aer, IBMQ, assemble\n",
    "\n",
    "from qiskit.tools.jupyter import *\n",
    "from qiskit.visualization import *\n",
    "from ibm_quantum_widgets import *\n",
    "\n",
    "# Loading your IBM Q account(s)\n",
    "provider = IBMQ.load_account()"
   ]
  },
  {
   "cell_type": "markdown",
   "id": "ebff8074-b7b6-4941-8498-739b008c7a41",
   "metadata": {},
   "source": [
    "Vi starter med at lave et kredsløb med én qubit, samt en måleoperator. Kør koden nedenfor for at sætte kredsløbet op. "
   ]
  },
  {
   "cell_type": "code",
   "execution_count": 68,
   "id": "7f004275-ff5a-455a-a6ff-4ccce023c8d1",
   "metadata": {},
   "outputs": [
    {
     "data": {
      "image/png": "[encoded data removed]",
      "text/plain": [
       "<Figure size 133.526x144.48 with 1 Axes>"
      ]
     },
     "execution_count": 68,
     "metadata": {},
     "output_type": "execute_result"
    }
   ],
   "source": [
    "circuit = QuantumCircuit(1,1) #Kredsløb med én qubit og én klassisk bit\n",
    "circuit.measure(0,0) #Lav en mǻling på den første qubit og gem resultatet i den første klassiske bit\n",
    "circuit.draw() #Tegn et diagram af kredsløbet"
   ]
  },
  {
   "cell_type": "markdown",
   "id": "ae5c3d7d-92ff-48ce-837c-d3bf165d12f9",
   "metadata": {},
   "source": [
    "***Hvordan man læser diagrammet:*** Diagrammet ovenfor har to læses fra venstre til højre og har to linjer; \"q\" linjen indikerer en qubit og \"c\" linjen indikerer en klassisk bit. Den sorte kasse med et speedometer er måleoperatoren - den laver en måling af qubit'en og gemmer resultatet i den klassiske bit.\n",
    "\n",
    "Når et kredsløb startes er en qubit altid i tilstanden $|0\\rangle$.\n",
    "\n",
    "**Opgave:** Hvilket resultat forventer du af måleoperatoren i dette kredsløb?\n",
    "\n",
    "Lad os prøve at eftervise dette med en rigtig måling! Koden nedenfor tager dette kredsløb og viser resultatet af målingerne. Variable `N_measure`bestemmer antallet af målinger som bliver lavet og `sim` bestemmer om målingen bliver gjort på en simulator eller en ægte kvantecomputer! Dvs at hvis du sætter `sim = False` bliver kredsløbet sendt til og målt på af en ægte kvantecomputer et sted i verdenen! Dette kan dog tage lidt lang tid, da der oftest er kø til at bruge disse computere - men du kan jo prøve det af i aften når du er kommet hjem!"
   ]
  },
  {
   "cell_type": "code",
   "execution_count": 69,
   "id": "7ba4b105-566e-4cd3-b7f4-bafcd9214470",
   "metadata": {},
   "outputs": [],
   "source": [
    "sim = True\n",
    "N_measure = 100"
   ]
  },
  {
   "cell_type": "code",
   "execution_count": 72,
   "id": "836840f3-0a63-4703-bf64-9b736bbb1ef7",
   "metadata": {},
   "outputs": [
    {
     "name": "stdout",
     "output_type": "stream",
     "text": [
      "{'|0>': 100, '|1>': 0}\n"
     ]
    },
    {
     "data": {
      "image/png": "[encoded data removed]",
      "text/plain": [
       "<Figure size 504x360 with 1 Axes>"
      ]
     },
     "execution_count": 72,
     "metadata": {},
     "output_type": "execute_result"
    }
   ],
   "source": [
    "if sim:\n",
    "    simulator = Aer.get_backend('aer_simulator')\n",
    "    Nmeasure = N_measure #Amount of times the circuit is run\n",
    "    result = simulator.run(circuit, shots=Nmeasure).result() \n",
    "    device_counts = result.get_counts() #Saves results as dictionary object\n",
    "    #Simulation code\n",
    "else:\n",
    "# Load our saved IBMQ accounts and get the least busy backend device with less than or equal to 5 qubits\n",
    "    n=3\n",
    "    IBMQ.load_account()\n",
    "    provider = IBMQ.get_provider(hub='ibm-q')\n",
    "    backend = least_busy(provider.backends(filters=lambda x: x.configuration().n_qubits >= n and \n",
    "                                       not x.configuration().simulator and x.status().operational==True))\n",
    "    #Finds the least busy quantum computer on the IBM Q network\n",
    "    print(\"least busy backend: \", backend)\n",
    "\n",
    "# Execute and monitor the job\n",
    "    from qiskit.tools.monitor import job_monitor\n",
    "    shots = 1024\n",
    "    transpiled_circ = transpile(circuit, backend, optimization_level=3) \n",
    "    qobj = assemble(transpiled_circ, shots=shots)\n",
    "    job = backend.run(qobj) #Send circuit to the quantum computer\n",
    "    job_monitor(job, interval=2)\n",
    "    device_counts = job.result().get_counts()\n",
    "\n",
    "possible_measurements = ['0','1']\n",
    "measurement_names = ['|0>','|1>']\n",
    "\n",
    "for name, measurement in zip(measurement_names, possible_measurements):\n",
    "    try:\n",
    "        device_counts[name] = device_counts.pop(measurement)\n",
    "    except:\n",
    "        device_counts[name] = 0\n",
    "\n",
    "print(device_counts)\n",
    "plot_histogram(device_counts)"
   ]
  },
  {
   "cell_type": "markdown",
   "id": "b868bb85-b8e4-41ac-b610-fa25b147184f",
   "metadata": {},
   "source": [
    "**Opgave:** Histogrammet ovenfor viser hvor mange gange målingen af qubit'en gav $0$ og $1$. Stemmer dette overens med din forventning? Forklar hvorfor."
   ]
  },
  {
   "cell_type": "markdown",
   "id": "e012e720-5c0c-4140-bc9e-8a5631b1e105",
   "metadata": {},
   "source": [
    "Nu prøver vi at operere på vores qubit med operatoren $X$ (definition 11 i noterne)."
   ]
  },
  {
   "cell_type": "code",
   "execution_count": 46,
   "id": "52e52d0d-3261-4062-a328-ca2f80ea1619",
   "metadata": {},
   "outputs": [
    {
     "data": {
      "image/png": "[encoded data removed]",
      "text/plain": [
       "<Figure size 193.726x144.48 with 1 Axes>"
      ]
     },
     "execution_count": 46,
     "metadata": {},
     "output_type": "execute_result"
    }
   ],
   "source": [
    "circuitX = QuantumCircuit(1,1) #Kredsløb med én qubit og én klassisk bit\n",
    "circuitX.x(0) #Brug X operatoren på den første qubit\n",
    "circuitX.measure(0,0) #Lav en mǻling på den første qubit og gem resultatet i den første klassiske bit\n",
    "circuitX.draw() #Tegn et diagram af kredsløbet"
   ]
  },
  {
   "cell_type": "markdown",
   "id": "e12894d5-2953-4b7b-a08c-08aa58131b22",
   "metadata": {},
   "source": [
    "**Opgave:** Forklar diagrammet ovenfor - husk at det læses fra venstre til højre.\n",
    "\n",
    "Kredsløbet vi har sat op laver en qubit i tilstanden $X|0\\rangle$. Hvilket resultat forventer du af at måle på dette kredsløb?"
   ]
  },
  {
   "cell_type": "code",
   "execution_count": 47,
   "id": "292c7c9c-d9dd-4d46-9237-bb17ebaff91e",
   "metadata": {},
   "outputs": [],
   "source": [
    "sim = True\n",
    "N_measure = 100"
   ]
  },
  {
   "cell_type": "code",
   "execution_count": 56,
   "id": "34999843-9c98-46d1-a811-c4ca57b855c3",
   "metadata": {},
   "outputs": [
    {
     "name": "stdout",
     "output_type": "stream",
     "text": [
      "{'|0>': 0, '|1>': 100}\n"
     ]
    },
    {
     "data": {
      "image/png": "[encoded data removed]",
      "text/plain": [
       "<Figure size 504x360 with 1 Axes>"
      ]
     },
     "execution_count": 56,
     "metadata": {},
     "output_type": "execute_result"
    }
   ],
   "source": [
    "if sim:\n",
    "    simulator = Aer.get_backend('aer_simulator')\n",
    "    Nmeasure = N_measure #Amount of times the circuit is run\n",
    "    result = simulator.run(circuitX, shots=Nmeasure).result() \n",
    "    device_counts = result.get_counts() #Saves results as dictionary object\n",
    "    #Simulation code\n",
    "else:\n",
    "# Load our saved IBMQ accounts and get the least busy backend device with less than or equal to 5 qubits\n",
    "    n=3\n",
    "    IBMQ.load_account()\n",
    "    provider = IBMQ.get_provider(hub='ibm-q')\n",
    "    backend = least_busy(provider.backends(filters=lambda x: x.configuration().n_qubits >= n and \n",
    "                                       not x.configuration().simulator and x.status().operational==True))\n",
    "    #Finds the least busy quantum computer on the IBM Q network\n",
    "    print(\"least busy backend: \", backend)\n",
    "\n",
    "# Execute and monitor the job\n",
    "    from qiskit.tools.monitor import job_monitor\n",
    "    shots = 1024\n",
    "    transpiled_circ = transpile(circuitX, backend, optimization_level=3) \n",
    "    qobj = assemble(transpiled_circ, shots=shots)\n",
    "    job = backend.run(qobj) #Send circuit to the quantum computer\n",
    "    job_monitor(job, interval=2)\n",
    "    device_counts = job.result().get_counts()\n",
    "\n",
    "possible_measurements = ['0','1']\n",
    "measurement_names = ['|0>','|1>']\n",
    "\n",
    "for name, measurement in zip(measurement_names, possible_measurements):\n",
    "    try:\n",
    "        device_counts[name] = device_counts.pop(measurement)\n",
    "    except:\n",
    "        device_counts[name] = 0\n",
    "\n",
    "print(device_counts)\n",
    "plot_histogram(device_counts)"
   ]
  },
  {
   "cell_type": "markdown",
   "id": "90e71589-d6f7-44ab-80fd-c32969adf764",
   "metadata": {},
   "source": [
    "Vi prøver igen med $H$ operatoren, også defineret i noterne (definition 12) - hvilket resultat forventer du?"
   ]
  },
  {
   "cell_type": "code",
   "execution_count": 73,
   "id": "c0a81ffc-05f7-419b-8c78-fb6a87d089c5",
   "metadata": {},
   "outputs": [
    {
     "data": {
      "image/png": "[encoded data removed]",
      "text/plain": [
       "<Figure size 193.726x144.48 with 1 Axes>"
      ]
     },
     "execution_count": 73,
     "metadata": {},
     "output_type": "execute_result"
    }
   ],
   "source": [
    "circuitH = QuantumCircuit(1,1) #Kredsløb med én qubit og én klassisk bit\n",
    "circuitH.h(0) #Brug H operatoren på den første qubit\n",
    "circuitH.measure(0,0) #Lav en mǻling på den første qubit og gem resultatet i den første klassiske bit\n",
    "circuitH.draw() #Tegn et diagram af kredsløbet"
   ]
  },
  {
   "cell_type": "code",
   "execution_count": 74,
   "id": "7a90ff59-af09-47a3-b7d5-dbc2f45c191a",
   "metadata": {},
   "outputs": [],
   "source": [
    "sim = True\n",
    "N_measure = 1024"
   ]
  },
  {
   "cell_type": "code",
   "execution_count": 75,
   "id": "fdaf7c4c-a0f7-4891-8f1a-b2dcc33ae858",
   "metadata": {},
   "outputs": [
    {
     "name": "stdout",
     "output_type": "stream",
     "text": [
      "{'|0>': 510, '|1>': 514}\n"
     ]
    },
    {
     "data": {
      "image/png": "[encoded data removed]",
      "text/plain": [
       "<Figure size 504x360 with 1 Axes>"
      ]
     },
     "execution_count": 75,
     "metadata": {},
     "output_type": "execute_result"
    }
   ],
   "source": [
    "if sim:\n",
    "    simulator = Aer.get_backend('aer_simulator')\n",
    "    Nmeasure = N_measure #Amount of times the circuit is run\n",
    "    result = simulator.run(circuitH, shots=Nmeasure).result() \n",
    "    device_counts = result.get_counts() #Saves results as dictionary object\n",
    "    #Simulation code\n",
    "else:\n",
    "# Load our saved IBMQ accounts and get the least busy backend device with less than or equal to 5 qubits\n",
    "    n=3\n",
    "    IBMQ.load_account()\n",
    "    provider = IBMQ.get_provider(hub='ibm-q')\n",
    "    backend = least_busy(provider.backends(filters=lambda x: x.configuration().n_qubits >= n and \n",
    "                                       not x.configuration().simulator and x.status().operational==True))\n",
    "    #Finds the least busy quantum computer on the IBM Q network\n",
    "    print(\"least busy backend: \", backend)\n",
    "\n",
    "# Execute and monitor the job\n",
    "    from qiskit.tools.monitor import job_monitor\n",
    "    shots = 1024\n",
    "    transpiled_circ = transpile(circuitH, backend, optimization_level=3) \n",
    "    qobj = assemble(transpiled_circ, shots=shots)\n",
    "    job = backend.run(qobj) #Send circuit to the quantum computer\n",
    "    job_monitor(job, interval=2)\n",
    "    device_counts = job.result().get_counts()\n",
    "\n",
    "possible_measurements = ['0','1']\n",
    "measurement_names = ['|0>','|1>']\n",
    "\n",
    "for name, measurement in zip(measurement_names, possible_measurements):\n",
    "    try:\n",
    "        device_counts[name] = device_counts.pop(measurement)\n",
    "    except:\n",
    "        device_counts[name] = 0\n",
    "\n",
    "print(device_counts)\n",
    "plot_histogram(device_counts)"
   ]
  },
  {
   "cell_type": "markdown",
   "id": "8f3d000b-66c0-459a-856e-a05d508bc7c9",
   "metadata": {},
   "source": [
    "**Opgave:** Forklar histogrammet ovenfor - stemmer det overens med dine forventninger"
   ]
  },
  {
   "cell_type": "markdown",
   "id": "0711a1d8-3d47-427b-a228-a45ff90b5eb6",
   "metadata": {},
   "source": [
    "Nu har du lært lidt om qubits, operatorer og målinger - du er derfor klar til at gå videre i din læring om kvantecomputere og tackle koncepter som operationer på flere qubits og sammenfiltring!"
   ]
  },
  {
   "cell_type": "markdown",
   "id": "4d39dbba-f7cf-4ad5-9207-9e27bb4aeea5",
   "metadata": {},
   "source": [
    "**Ekstra opgave:** Hvad hvis vi opsatte tilstanden $ZH|0\\rangle$? Hvilke målinger ville du forvente?"
   ]
  },
  {
   "cell_type": "code",
   "execution_count": 64,
   "id": "b27cf2e3-bb39-402c-875b-a8dc64b1c460",
   "metadata": {},
   "outputs": [
    {
     "data": {
      "image/png": "[encoded data removed]",
      "text/plain": [
       "<Figure size 253.926x144.48 with 1 Axes>"
      ]
     },
     "execution_count": 64,
     "metadata": {},
     "output_type": "execute_result"
    }
   ],
   "source": [
    "circuitZH = QuantumCircuit(1,1) #Kredsløb med én qubit og én klassisk bit\n",
    "circuitZH.h(0) #Brug H operatoren på den første qubit\n",
    "circuitZH.z(0) #Brug Z operatoren på den første qubit\n",
    "circuitZH.measure(0,0) #Lav en mǻling på den første qubit og gem resultatet i den første klassiske bit\n",
    "circuitZH.draw() #Tegn et diagram af kredsløbet"
   ]
  },
  {
   "cell_type": "code",
   "execution_count": 65,
   "id": "ef846c33-04cc-4aff-8b81-5db5c2f342a4",
   "metadata": {},
   "outputs": [],
   "source": [
    "sim = True\n",
    "N_measure = 1024"
   ]
  },
  {
   "cell_type": "code",
   "execution_count": 66,
   "id": "0c38bb8d-8631-43c4-9822-382ecfce2da1",
   "metadata": {},
   "outputs": [
    {
     "name": "stdout",
     "output_type": "stream",
     "text": [
      "{'|0>': 505, '|1>': 519}\n"
     ]
    },
    {
     "data": {
      "image/png": "[encoded data removed]",
      "text/plain": [
       "<Figure size 504x360 with 1 Axes>"
      ]
     },
     "execution_count": 66,
     "metadata": {},
     "output_type": "execute_result"
    }
   ],
   "source": [
    "if sim:\n",
    "    simulator = Aer.get_backend('aer_simulator')\n",
    "    Nmeasure = N_measure #Amount of times the circuit is run\n",
    "    result = simulator.run(circuitZH, shots=Nmeasure).result() \n",
    "    device_counts = result.get_counts() #Saves results as dictionary object\n",
    "    #Simulation code\n",
    "else:\n",
    "# Load our saved IBMQ accounts and get the least busy backend device with less than or equal to 5 qubits\n",
    "    n=3\n",
    "    IBMQ.load_account()\n",
    "    provider = IBMQ.get_provider(hub='ibm-q')\n",
    "    backend = least_busy(provider.backends(filters=lambda x: x.configuration().n_qubits >= n and \n",
    "                                       not x.configuration().simulator and x.status().operational==True))\n",
    "    #Finds the least busy quantum computer on the IBM Q network\n",
    "    print(\"least busy backend: \", backend)\n",
    "\n",
    "# Execute and monitor the job\n",
    "    from qiskit.tools.monitor import job_monitor\n",
    "    shots = 1024\n",
    "    transpiled_circ = transpile(circuitZH, backend, optimization_level=3) \n",
    "    qobj = assemble(transpiled_circ, shots=shots)\n",
    "    job = backend.run(qobj) #Send circuit to the quantum computer\n",
    "    job_monitor(job, interval=2)\n",
    "    device_counts = job.result().get_counts()\n",
    "\n",
    "possible_measurements = ['0','1']\n",
    "measurement_names = ['|0>','|1>']\n",
    "\n",
    "for name, measurement in zip(measurement_names, possible_measurements):\n",
    "    try:\n",
    "        device_counts[name] = device_counts.pop(measurement)\n",
    "    except:\n",
    "        device_counts[name] = 0\n",
    "\n",
    "print(device_counts)\n",
    "plot_histogram(device_counts)"
   ]
  },
  {
   "cell_type": "code",
   "execution_count": null,
   "id": "8f6786ad-bae0-46e4-b89d-346d303e533a",
   "metadata": {},
   "outputs": [],
   "source": []
  }
 ],
 "metadata": {
  "kernelspec": {
   "display_name": "Python 3 (ipykernel)",
   "language": "python",
   "name": "python3"
  },
  "language_info": {
   "codemirror_mode": {
    "name": "ipython",
    "version": 3
   },
   "file_extension": ".py",
   "mimetype": "text/x-python",
   "name": "python",
   "nbconvert_exporter": "python",
   "pygments_lexer": "ipython3",
   "version": "3.8.13"
  },
  "widgets": {
   "application/vnd.jupyter.widget-state+json": {
    "state": {},
    "version_major": 2,
    "version_minor": 0
   }
  }
 },
 "nbformat": 4,
 "nbformat_minor": 5
}
