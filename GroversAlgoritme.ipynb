{
 "cells": [
  {
   "cell_type": "markdown",
   "metadata": {
    "tags": [
     "remove_cell"
    ]
   },
   "source": [
    "# IBM Q Opgave 4: Grovers Algoritme\n",
    "### Skrevet af Anna Liv Paludan Bjerregaard"
   ]
  },
  {
   "cell_type": "markdown",
   "metadata": {},
   "source": [
    "I denne opgave skal vi kigge på en rigtig kvante-algoritme, altså en algoritme som kan køre på en kvantecomputer. Mere specifikt kigger vi på Grovers algoritme, som er beskrevet i sektion 12 af noterne."
   ]
  },
  {
   "cell_type": "code",
   "execution_count": 2,
   "metadata": {},
   "outputs": [],
   "source": [
    "import numpy as np\n",
    "import matplotlib.pyplot as plt\n",
    "# Importing standard Qiskit libraries\n",
    "from qiskit.providers.ibmq import least_busy\n",
    "from qiskit import QuantumCircuit, transpile, Aer, IBMQ, assemble\n",
    "\n",
    "from qiskit.tools.jupyter import *\n",
    "from qiskit.visualization import *\n",
    "from ibm_quantum_widgets import *\n",
    "\n",
    "# Loading your IBM Q account(s)\n",
    "provider = IBMQ.load_account()"
   ]
  },
  {
   "cell_type": "markdown",
   "metadata": {},
   "source": [
    "Vi starter med at lave et kredsløb som anvender Grovers algoritme på 2 qubits - dvs at vi søger i et rum med $2^2=4$ muligheder: 00, 01, 10 og 11. Lad os sige at vi gerne vil have at kredsløbet finder frem til resulatet 11. Det indkoder vi i \"Oraklet\", hvilket kan føles som snyd, men tænk på det som en søgealgoritme. Hvis du søger efter noget på Google så skriver du jo også hvad du søger efter!"
   ]
  },
  {
   "cell_type": "code",
   "execution_count": 3,
   "metadata": {
    "tags": [
     "thebelab-init"
    ]
   },
   "outputs": [
    {
     "data": {
      "image/png": "[encoded data removed]",
      "text/plain": [
       "<Figure size 658.679x204.68 with 1 Axes>"
      ]
     },
     "execution_count": 3,
     "metadata": {},
     "output_type": "execute_result"
    }
   ],
   "source": [
    "n = 2\n",
    "grover_circuit = QuantumCircuit(n)\n",
    "def initialize_s(qc, qubits):\n",
    "    \"\"\"Apply a H-gate to 'qubits' in qc\"\"\"\n",
    "    for q in qubits:\n",
    "        qc.h(q)\n",
    "    return qc\n",
    "grover_circuit = initialize_s(grover_circuit, [0,1])\n",
    "#grover_circuit.x(0)#apply to modify oracle\n",
    "#grover_circuit.x(1)#apply to modify oracle\n",
    "grover_circuit.cz(0,1) # Oracle\n",
    "#grover_circuit.x(0)#apply to modify oracle\n",
    "#grover_circuit.x(1)#apply to modify oracle\n",
    "# Diffusion operator (U_s)\n",
    "grover_circuit.h([0,1])\n",
    "grover_circuit.z([0,1])\n",
    "grover_circuit.cz(0,1)\n",
    "grover_circuit.h([0,1])\n",
    "grover_circuit.measure_all()\n",
    "grover_circuit.draw()"
   ]
  },
  {
   "cell_type": "markdown",
   "metadata": {},
   "source": [
    "Du behøver ikke at forstå diagrammet, men hvis du har lyst kan du prøve at læse det igennem og se om du kan tyde det."
   ]
  },
  {
   "cell_type": "markdown",
   "metadata": {},
   "source": [
    "Hvis algoritmen virker som den skal, så burde den komme frem til resultatet 11 *hver gang* vi måler. Prøv at køre nedestående først som simulation (`sim = True`) og dernæst på en ægte kvantecomputer (`sim = False`). Forventer du forskellige resultater med de to metoder?"
   ]
  },
  {
   "cell_type": "code",
   "execution_count": 14,
   "metadata": {},
   "outputs": [],
   "source": [
    "sim = True\n",
    "N_measure = 1024"
   ]
  },
  {
   "cell_type": "code",
   "execution_count": 15,
   "metadata": {},
   "outputs": [
    {
     "name": "stdout",
     "output_type": "stream",
     "text": [
      "{'|00>': 0, '|10>': 0, '|01>': 0, '|11>': 1024}\n"
     ]
    },
    {
     "data": {
      "image/png": "[encoded data removed]",
      "text/plain": [
       "<Figure size 504x360 with 1 Axes>"
      ]
     },
     "execution_count": 15,
     "metadata": {},
     "output_type": "execute_result"
    }
   ],
   "source": [
    "if sim:\n",
    "    simulator = Aer.get_backend('aer_simulator')\n",
    "    Nmeasure = N_measure #Amount of times the circuit is run\n",
    "    result = simulator.run(grover_circuit, shots=Nmeasure).result() \n",
    "    device_counts = result.get_counts() #Saves results as dictionary object\n",
    "    #Simulation code\n",
    "else:\n",
    "# Load our saved IBMQ accounts and get the least busy backend device with less than or equal to 5 qubits\n",
    "    n=3\n",
    "    IBMQ.load_account()\n",
    "    provider = IBMQ.get_provider(hub='ibm-q')\n",
    "    backend = least_busy(provider.backends(filters=lambda x: x.configuration().n_qubits >= n and \n",
    "                                       not x.configuration().simulator and x.status().operational==True))\n",
    "    #Finds the least busy quantum computer on the IBM Q network\n",
    "    print(\"least busy backend: \", backend)\n",
    "\n",
    "# Execute and monitor the job\n",
    "    from qiskit.tools.monitor import job_monitor\n",
    "    shots = 1024\n",
    "    transpiled_circ = transpile(grover_circuit, backend, optimization_level=3) \n",
    "    qobj = assemble(transpiled_circ, shots=shots)\n",
    "    job = backend.run(qobj) #Send circuit to the quantum computer\n",
    "    job_monitor(job, interval=2)\n",
    "    device_counts = job.result().get_counts()\n",
    "\n",
    "possible_measurements = ['00','10','01','11']\n",
    "measurement_names = ['|00>','|10>','|01>','|11>']\n",
    "\n",
    "for name, measurement in zip(measurement_names, possible_measurements):\n",
    "    try:\n",
    "        device_counts[name] = device_counts.pop(measurement)\n",
    "    except:\n",
    "        device_counts[name] = 0\n",
    "\n",
    "print(device_counts)\n",
    "plot_histogram(device_counts)"
   ]
  },
  {
   "cell_type": "markdown",
   "metadata": {},
   "source": [
    "Hvis du nåede at prøve med en ægte kvantecomputer: Hvordan ændrede resultatet sig ift simulationen? Hvorfor?"
   ]
  },
  {
   "cell_type": "markdown",
   "metadata": {
    "tags": [
     "uses-hardware"
    ]
   },
   "source": [
    "Nu har du prøvet at køre en ægte kvantealgoritme!\n",
    "Gennem disse øvelser har du lært om\n",
    "\n",
    "1. Hvad en qubit er\n",
    "\n",
    "2. Hvordan man måler på dem\n",
    "\n",
    "3. Sammenfiltring af qubits\n",
    "\n",
    "4. Hvordan man bruger qubits til at lave algoritmer på kvantecomputere\n",
    "\n",
    "og du er klædt godt på til at gå længere ind i kvantecomputernes verden!"
   ]
  },
  {
   "cell_type": "markdown",
   "metadata": {},
   "source": [
    "**Ekstraopgave:** Lad os prøve at køre Grovers algoritme med tre qubits! Dette giver os $2^3 = 8$ muligheder og vi vælger $|111\\rangle$ som løsning. Du kan tweake `n_grover` variablen for at styre hvor mange gange Grovers algoritme anvendes! Prøv med nogle forskellige værdier og se hvordan resultatet ændrer sig. Hvis ventetiden ikke er for lang, så prøv også at køre jobbet på en ægte kvantecomputer ved at sætte `sim = False`."
   ]
  },
  {
   "cell_type": "code",
   "execution_count": 34,
   "metadata": {},
   "outputs": [],
   "source": [
    "qc = QuantumCircuit(3)\n",
    "#qc.cz(0, 2)#This and the next line picks |101> and |110>\n",
    "#qc.cz(1, 2)\n",
    "qc.h(2)#the ande the following 2 lines picks the |111> state \n",
    "qc.ccx(0,1,2)\n",
    "qc.h(2)\n",
    "\n",
    "oracle_ex3 = qc.to_gate()\n",
    "oracle_ex3.name = \"U$_\\omega$\"\n",
    "\n",
    "def diffuser(nqubits):\n",
    "    qc = QuantumCircuit(nqubits)\n",
    "    # Apply transformation |s> -> |00..0> (H-gates)\n",
    "    for qubit in range(nqubits):\n",
    "        qc.h(qubit)\n",
    "    # Apply transformation |00..0> -> |11..1> (X-gates)\n",
    "    for qubit in range(nqubits):\n",
    "        qc.x(qubit)\n",
    "    # Do multi-controlled-Z gate\n",
    "    qc.h(nqubits-1)\n",
    "    qc.mct(list(range(nqubits-1)), nqubits-1)  # multi-controlled-toffoli\n",
    "    qc.h(nqubits-1)\n",
    "    # Apply transformation |11..1> -> |00..0>\n",
    "    for qubit in range(nqubits):\n",
    "        qc.x(qubit)\n",
    "    # Apply transformation |00..0> -> |s>\n",
    "    for qubit in range(nqubits):\n",
    "        qc.h(qubit)\n",
    "    # We will return the diffuser as a gate\n",
    "    U_s = qc.to_gate()\n",
    "    U_s.name = \"U$_s$\"\n",
    "    return U_s"
   ]
  },
  {
   "cell_type": "code",
   "execution_count": 51,
   "metadata": {},
   "outputs": [
    {
     "data": {
      "image/png": "[encoded data removed]",
      "text/plain": [
       "<Figure size 538.279x264.88 with 1 Axes>"
      ]
     },
     "execution_count": 51,
     "metadata": {},
     "output_type": "execute_result"
    }
   ],
   "source": [
    "n = 3\n",
    "n_grover = 1\n",
    "\n",
    "grover_circuit = QuantumCircuit(n)\n",
    "grover_circuit = initialize_s(grover_circuit, [0,1,2])\n",
    "for i in range(n_grover):\n",
    "    grover_circuit.append(oracle_ex3, [0,1,2])\n",
    "    grover_circuit.append(diffuser(n), [0,1,2])\n",
    "grover_circuit.measure_all()\n",
    "grover_circuit.draw()"
   ]
  },
  {
   "cell_type": "code",
   "execution_count": 52,
   "metadata": {},
   "outputs": [],
   "source": [
    "sim = True\n",
    "N_measure = 1024"
   ]
  },
  {
   "cell_type": "code",
   "execution_count": 53,
   "metadata": {},
   "outputs": [
    {
     "name": "stdout",
     "output_type": "stream",
     "text": [
      "{'|000>': 30, '|001>': 34, '|010>': 39, '|011>': 32, '|100>': 25, '|101>': 32, '|110>': 27, '|111>': 805}\n"
     ]
    },
    {
     "data": {
      "image/png": "[encoded data removed]",
      "text/plain": [
       "<Figure size 504x360 with 1 Axes>"
      ]
     },
     "execution_count": 53,
     "metadata": {},
     "output_type": "execute_result"
    }
   ],
   "source": [
    "if sim:\n",
    "    aer_sim = Aer.get_backend('aer_simulator')\n",
    "    transpiled_grover_circuit = transpile(grover_circuit, aer_sim)\n",
    "    qobj = assemble(transpiled_grover_circuit)\n",
    "    results = aer_sim.run(qobj).result()\n",
    "    device_counts = results.get_counts()\n",
    "    #Simulation code\n",
    "else:\n",
    "# Load our saved IBMQ accounts and get the least busy backend device with less than or equal to 5 qubits\n",
    "    n=3\n",
    "    IBMQ.load_account()\n",
    "    provider = IBMQ.get_provider(hub='ibm-q')\n",
    "    backend = least_busy(provider.backends(filters=lambda x: x.configuration().n_qubits >= n and \n",
    "                                       not x.configuration().simulator and x.status().operational==True))\n",
    "    #Finds the least busy quantum computer on the IBM Q network\n",
    "    print(\"least busy backend: \", backend)\n",
    "\n",
    "# Execute and monitor the job\n",
    "    from qiskit.tools.monitor import job_monitor\n",
    "    shots = 1024\n",
    "    transpiled_circ = transpile(grover_circuit, backend, optimization_level=3) \n",
    "    qobj = assemble(transpiled_circ, shots=shots)\n",
    "    job = backend.run(qobj) #Send circuit to the quantum computer\n",
    "    job_monitor(job, interval=2)\n",
    "    device_counts = job.result().get_counts()\n",
    "\n",
    "possible_measurements = ['000','001','010','011','100','101','110','111']\n",
    "measurement_names = ['|000>','|001>','|010>','|011>','|100>','|101>','|110>','|111>']\n",
    "\n",
    "for name, measurement in zip(measurement_names, possible_measurements):\n",
    "    try:\n",
    "        device_counts[name] = device_counts.pop(measurement)\n",
    "    except:\n",
    "        device_counts[name] = 0\n",
    "\n",
    "print(device_counts)\n",
    "plot_histogram(device_counts)"
   ]
  },
  {
   "cell_type": "code",
   "execution_count": null,
   "metadata": {},
   "outputs": [],
   "source": []
  }
 ],
 "metadata": {
  "kernelspec": {
   "display_name": "Python 3 (ipykernel)",
   "language": "python",
   "name": "python3"
  },
  "language_info": {
   "codemirror_mode": {
    "name": "ipython",
    "version": 3
   },
   "file_extension": ".py",
   "mimetype": "text/x-python",
   "name": "python",
   "nbconvert_exporter": "python",
   "pygments_lexer": "ipython3",
   "version": "3.8.13"
  },
  "widgets": {
   "application/vnd.jupyter.widget-state+json": {
    "state": {
     "00e43b4965a541c0b1a948f25a776eb1": {
      "model_module": "@jupyter-widgets/controls",
      "model_module_version": "1.5.0",
      "model_name": "HTMLModel",
      "state": {
       "layout": "IPY_MODEL_319e636e263c48a2abb89061197fed7e",
       "style": "IPY_MODEL_2285aa50fc9843fb9beb49f1e3b0f2ce",
       "value": "<p style='font-family: IBM Plex Sans, Arial, Helvetica, sans-serif; font-size: 20px; font-weight: medium;'>Circuit Properties</p>"
      }
     },
     "06e2616580c64cc99da34732470e34ec": {
      "model_module": "@jupyter-widgets/base",
      "model_module_version": "1.2.0",
      "model_name": "LayoutModel",
      "state": {
       "margin": "0px 5px 0px 0px",
       "width": "32px"
      }
     },
     "111fa6c035a1429d9b945a984bf18830": {
      "model_module": "@jupyter-widgets/base",
      "model_module_version": "1.2.0",
      "model_name": "LayoutModel",
      "state": {
       "grid_template_areas": "\n                                       \". . . . right \"\n                                        ",
       "grid_template_columns": "20% 20% 20% 20% 20%",
       "width": "100%"
      }
     },
     "14a375f7f9c349d9bc0eed3c22db5915": {
      "model_module": "@jupyter-widgets/base",
      "model_module_version": "1.2.0",
      "model_name": "LayoutModel",
      "state": {
       "max_width": "700px",
       "min_width": "700px"
      }
     },
     "1b7383cff52940cea0021b6de9f42ddb": {
      "model_module": "@jupyter-widgets/controls",
      "model_module_version": "1.5.0",
      "model_name": "DescriptionStyleModel",
      "state": {
       "description_width": ""
      }
     },
     "1e0c2ca4304f44e5aab7896dc3d5f906": {
      "model_module": "@jupyter-widgets/controls",
      "model_module_version": "1.5.0",
      "model_name": "HBoxModel",
      "state": {
       "children": [
        "IPY_MODEL_8ca656564adb4b288775fdeca4608523",
        "IPY_MODEL_57bb1d69ce114bb2adbc3d9dd631fa9f",
        "IPY_MODEL_4dc8f71846da41b8b79438ea9f83769d",
        "IPY_MODEL_522c790813aa4727a6c4ac626eaaa867",
        "IPY_MODEL_72f7dc5e23bd40bd8bd55c1b225dc3b5",
        "IPY_MODEL_c15a9867c1634c0ebd7c661e701366ed"
       ],
       "layout": "IPY_MODEL_14a375f7f9c349d9bc0eed3c22db5915"
      }
     },
     "2285aa50fc9843fb9beb49f1e3b0f2ce": {
      "model_module": "@jupyter-widgets/controls",
      "model_module_version": "1.5.0",
      "model_name": "DescriptionStyleModel",
      "state": {
       "description_width": ""
      }
     },
     "27e39c0349294178b6246abc59954348": {
      "model_module": "@jupyter-widgets/controls",
      "model_module_version": "1.5.0",
      "model_name": "DescriptionStyleModel",
      "state": {
       "description_width": ""
      }
     },
     "288fe9f4f7dc4fbd86cbce18e391d419": {
      "model_module": "@jupyter-widgets/controls",
      "model_module_version": "1.5.0",
      "model_name": "DescriptionStyleModel",
      "state": {
       "description_width": ""
      }
     },
     "2c5f3fd1ea944431b04cd4938cc69a83": {
      "model_module": "@jupyter-widgets/base",
      "model_module_version": "1.2.0",
      "model_name": "LayoutModel",
      "state": {
       "width": "190px"
      }
     },
     "319e636e263c48a2abb89061197fed7e": {
      "model_module": "@jupyter-widgets/base",
      "model_module_version": "1.2.0",
      "model_name": "LayoutModel",
      "state": {
       "margin": "0px 0px 10px 0px"
      }
     },
     "3552053c74a04cee9a095ea84487ca45": {
      "model_module": "@jupyter-widgets/controls",
      "model_module_version": "1.5.0",
      "model_name": "HTMLModel",
      "state": {
       "layout": "IPY_MODEL_47bbbd1e86514441ab8f64f15ae761c9",
       "style": "IPY_MODEL_d73f54f298b24d20be65ab4fc1f8259f",
       "value": "<h5>Message</h5>"
      }
     },
     "43b76c7152854d87951e3b4480e60fae": {
      "model_module": "@jupyter-widgets/controls",
      "model_module_version": "1.5.0",
      "model_name": "HTMLModel",
      "state": {
       "layout": "IPY_MODEL_59cfdceb6b7c4a5897671303febc0164",
       "style": "IPY_MODEL_27e39c0349294178b6246abc59954348",
       "value": "<h5>Job ID</h5>"
      }
     },
     "47bbbd1e86514441ab8f64f15ae761c9": {
      "model_module": "@jupyter-widgets/base",
      "model_module_version": "1.2.0",
      "model_name": "LayoutModel",
      "state": {}
     },
     "4a4fc5b5800f4ed3a5a87cc35f4cba45": {
      "model_module": "@jupyter-widgets/controls",
      "model_module_version": "1.5.0",
      "model_name": "DescriptionStyleModel",
      "state": {
       "description_width": ""
      }
     },
     "4dc8f71846da41b8b79438ea9f83769d": {
      "model_module": "@jupyter-widgets/controls",
      "model_module_version": "1.5.0",
      "model_name": "HTMLModel",
      "state": {
       "layout": "IPY_MODEL_cc13b16609c649c8895820c040af71df",
       "style": "IPY_MODEL_1b7383cff52940cea0021b6de9f42ddb",
       "value": "ibmq_belem"
      }
     },
     "4e416f5200c544b981903a9086069ff8": {
      "model_module": "@jupyter-widgets/base",
      "model_module_version": "1.2.0",
      "model_name": "LayoutModel",
      "state": {
       "width": "145px"
      }
     },
     "522c790813aa4727a6c4ac626eaaa867": {
      "model_module": "@jupyter-widgets/controls",
      "model_module_version": "1.5.0",
      "model_name": "HTMLModel",
      "state": {
       "layout": "IPY_MODEL_5d0a4c68898a46039c775c982eb68377",
       "style": "IPY_MODEL_af9a175aa35445cf97b77ab4c2c8a92f",
       "value": "<font style='color:#34BC6E'>DONE</font>"
      }
     },
     "57bb1d69ce114bb2adbc3d9dd631fa9f": {
      "model_module": "@jupyter-widgets/controls",
      "model_module_version": "1.5.0",
      "model_name": "HTMLModel",
      "state": {
       "layout": "IPY_MODEL_2c5f3fd1ea944431b04cd4938cc69a83",
       "style": "IPY_MODEL_288fe9f4f7dc4fbd86cbce18e391d419",
       "value": "6374f184d849aa345531232f"
      }
     },
     "58f98ae93a514c06b5106a450de9feb9": {
      "model_module": "@jupyter-widgets/controls",
      "model_module_version": "1.5.0",
      "model_name": "ButtonStyleModel",
      "state": {}
     },
     "59cfdceb6b7c4a5897671303febc0164": {
      "model_module": "@jupyter-widgets/base",
      "model_module_version": "1.2.0",
      "model_name": "LayoutModel",
      "state": {
       "width": "190px"
      }
     },
     "5b875638e09f47108ea839b95cd30ac9": {
      "model_module": "@jupyter-widgets/base",
      "model_module_version": "1.2.0",
      "model_name": "LayoutModel",
      "state": {
       "grid_area": "right",
       "padding": "0px 0px 0px 0px",
       "width": "70px"
      }
     },
     "5c70176d30bd4cc593aacf88099f8be0": {
      "model_module": "@jupyter-widgets/controls",
      "model_module_version": "1.5.0",
      "model_name": "GridBoxModel",
      "state": {
       "children": [
        "IPY_MODEL_8ec5c39014ae455f85ebce23c4c3e564"
       ],
       "layout": "IPY_MODEL_111fa6c035a1429d9b945a984bf18830"
      }
     },
     "5d0a4c68898a46039c775c982eb68377": {
      "model_module": "@jupyter-widgets/base",
      "model_module_version": "1.2.0",
      "model_name": "LayoutModel",
      "state": {
       "width": "95px"
      }
     },
     "6503f27dc19544c3bee9d0c7c58f87eb": {
      "model_module": "@jupyter-widgets/base",
      "model_module_version": "1.2.0",
      "model_name": "LayoutModel",
      "state": {
       "overflow_x": "scroll"
      }
     },
     "71c177368c6b472392765a8bd8fdf424": {
      "model_module": "@jupyter-widgets/base",
      "model_module_version": "1.2.0",
      "model_name": "LayoutModel",
      "state": {
       "width": "70px"
      }
     },
     "72f7dc5e23bd40bd8bd55c1b225dc3b5": {
      "model_module": "@jupyter-widgets/controls",
      "model_module_version": "1.5.0",
      "model_name": "HTMLModel",
      "state": {
       "layout": "IPY_MODEL_f581d604968f44aa8e46f564c25aa307",
       "style": "IPY_MODEL_a30eec9aad434486afa29aed229e9322",
       "value": "-"
      }
     },
     "8354898c08714fe181782432dec96757": {
      "model_module": "@jupyter-widgets/controls",
      "model_module_version": "1.5.0",
      "model_name": "HTMLModel",
      "state": {
       "layout": "IPY_MODEL_4e416f5200c544b981903a9086069ff8",
       "style": "IPY_MODEL_e7520066eb0a44009362ccb96e4ca1d2",
       "value": "<h5>Backend</h5>"
      }
     },
     "8b9c7e4308cb4f878db4e46b750a8284": {
      "model_module": "@jupyter-widgets/base",
      "model_module_version": "1.2.0",
      "model_name": "LayoutModel",
      "state": {
       "width": "95px"
      }
     },
     "8ca656564adb4b288775fdeca4608523": {
      "model_module": "@jupyter-widgets/controls",
      "model_module_version": "1.5.0",
      "model_name": "ButtonModel",
      "state": {
       "icon": "close",
       "layout": "IPY_MODEL_06e2616580c64cc99da34732470e34ec",
       "style": "IPY_MODEL_dc6baf865fe94978b4b956e76d785d8e"
      }
     },
     "8ec5c39014ae455f85ebce23c4c3e564": {
      "model_module": "@jupyter-widgets/controls",
      "model_module_version": "1.5.0",
      "model_name": "ButtonModel",
      "state": {
       "button_style": "primary",
       "description": "Clear",
       "layout": "IPY_MODEL_5b875638e09f47108ea839b95cd30ac9",
       "style": "IPY_MODEL_58f98ae93a514c06b5106a450de9feb9"
      }
     },
     "8f09061589be4962bc4698e33663e687": {
      "model_module": "@jupyter-widgets/controls",
      "model_module_version": "1.5.0",
      "model_name": "HTMLModel",
      "state": {
       "layout": "IPY_MODEL_8b9c7e4308cb4f878db4e46b750a8284",
       "style": "IPY_MODEL_4a4fc5b5800f4ed3a5a87cc35f4cba45",
       "value": "<h5>Status</h5>"
      }
     },
     "91cc3f5caead476fb9075ff88ed111aa": {
      "model_module": "@jupyter-widgets/controls",
      "model_module_version": "1.5.0",
      "model_name": "HTMLModel",
      "state": {
       "layout": "IPY_MODEL_71c177368c6b472392765a8bd8fdf424",
       "style": "IPY_MODEL_b2d1918ded1d4fd187ac9e071f599e17",
       "value": "<h5>Queue</h5>"
      }
     },
     "98c1bfff8ef44ce5a42a11575c4036a6": {
      "model_module": "@jupyter-widgets/controls",
      "model_module_version": "1.5.0",
      "model_name": "HBoxModel",
      "state": {
       "children": [
        "IPY_MODEL_43b76c7152854d87951e3b4480e60fae",
        "IPY_MODEL_8354898c08714fe181782432dec96757",
        "IPY_MODEL_8f09061589be4962bc4698e33663e687",
        "IPY_MODEL_91cc3f5caead476fb9075ff88ed111aa",
        "IPY_MODEL_3552053c74a04cee9a095ea84487ca45"
       ],
       "layout": "IPY_MODEL_a0996c522ea543a59a099b81e19686a2"
      }
     },
     "a0996c522ea543a59a099b81e19686a2": {
      "model_module": "@jupyter-widgets/base",
      "model_module_version": "1.2.0",
      "model_name": "LayoutModel",
      "state": {
       "margin": "0px 0px 0px 37px",
       "width": "600px"
      }
     },
     "a30eec9aad434486afa29aed229e9322": {
      "model_module": "@jupyter-widgets/controls",
      "model_module_version": "1.5.0",
      "model_name": "DescriptionStyleModel",
      "state": {
       "description_width": ""
      }
     },
     "af9a175aa35445cf97b77ab4c2c8a92f": {
      "model_module": "@jupyter-widgets/controls",
      "model_module_version": "1.5.0",
      "model_name": "DescriptionStyleModel",
      "state": {
       "description_width": ""
      }
     },
     "b2d1918ded1d4fd187ac9e071f599e17": {
      "model_module": "@jupyter-widgets/controls",
      "model_module_version": "1.5.0",
      "model_name": "DescriptionStyleModel",
      "state": {
       "description_width": ""
      }
     },
     "c15a9867c1634c0ebd7c661e701366ed": {
      "model_module": "@jupyter-widgets/controls",
      "model_module_version": "1.5.0",
      "model_name": "HTMLModel",
      "state": {
       "layout": "IPY_MODEL_6503f27dc19544c3bee9d0c7c58f87eb",
       "style": "IPY_MODEL_fc71a42b05674bae9d65bb7498ec6802",
       "value": "job has successfully run"
      }
     },
     "cc13b16609c649c8895820c040af71df": {
      "model_module": "@jupyter-widgets/base",
      "model_module_version": "1.2.0",
      "model_name": "LayoutModel",
      "state": {
       "width": "145px"
      }
     },
     "d73f54f298b24d20be65ab4fc1f8259f": {
      "model_module": "@jupyter-widgets/controls",
      "model_module_version": "1.5.0",
      "model_name": "DescriptionStyleModel",
      "state": {
       "description_width": ""
      }
     },
     "dc6baf865fe94978b4b956e76d785d8e": {
      "model_module": "@jupyter-widgets/controls",
      "model_module_version": "1.5.0",
      "model_name": "ButtonStyleModel",
      "state": {
       "button_color": "white"
      }
     },
     "e7520066eb0a44009362ccb96e4ca1d2": {
      "model_module": "@jupyter-widgets/controls",
      "model_module_version": "1.5.0",
      "model_name": "DescriptionStyleModel",
      "state": {
       "description_width": ""
      }
     },
     "f581d604968f44aa8e46f564c25aa307": {
      "model_module": "@jupyter-widgets/base",
      "model_module_version": "1.2.0",
      "model_name": "LayoutModel",
      "state": {
       "width": "70px"
      }
     },
     "fc71a42b05674bae9d65bb7498ec6802": {
      "model_module": "@jupyter-widgets/controls",
      "model_module_version": "1.5.0",
      "model_name": "DescriptionStyleModel",
      "state": {
       "description_width": ""
      }
     }
    },
    "version_major": 2,
    "version_minor": 0
   }
  }
 },
 "nbformat": 4,
 "nbformat_minor": 4
}
